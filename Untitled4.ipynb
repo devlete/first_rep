{
  "nbformat": 4,
  "nbformat_minor": 0,
  "metadata": {
    "colab": {
      "provenance": [],
      "mount_file_id": "1JBjcptvyryE-luDW5DPp6KGUM3TVjhBh",
      "authorship_tag": "ABX9TyN35j67gmLtwX2FwOhfACc7",
      "include_colab_link": true
    },
    "kernelspec": {
      "name": "python3",
      "display_name": "Python 3"
    },
    "language_info": {
      "name": "python"
    }
  },
  "cells": [
    {
      "cell_type": "markdown",
      "metadata": {
        "id": "view-in-github",
        "colab_type": "text"
      },
      "source": [
        "<a href=\"https://colab.research.google.com/github/devlete/first_rep/blob/main/Untitled4.ipynb\" target=\"_parent\"><img src=\"https://colab.research.google.com/assets/colab-badge.svg\" alt=\"Open In Colab\"/></a>"
      ]
    },
    {
      "cell_type": "code",
      "source": [
        "import pandas as pd\n",
        "\n",
        "\n",
        "\n",
        "\n",
        "print('INSTRUÇÕES')\n",
        "print(f'1 - Abra a planilha.')\n",
        "print(f'2 - Verifique se está com as colunas com os nomes adequados.')\n",
        "print(f'3 - Salve a planilha e copia o caminho desta, para informar quando perguntado.')\n",
        "print(f'4 - O relatório sairá pronto, com a informação do motivo do veto seguida pelo número das emendas a serem vetadas.')\n",
        "\n",
        "#1 ANÁLISE DE AÇÕES (ART. 24 DA LDO)\n",
        "pl = str(input('Digite o número do PL(XXX/ANO)? '))\n",
        "#caminho = str(input(f'Informe o caminho do arquivo da planilha, sem aspas, e certifique-se que está em formato \"xlsx\": '))\n",
        "df1 = pd.read_excel('/content/drive/MyDrive/emendas/p.xls')\n",
        "ne = int(input('Digite o número da coluna que contém o número da emenda - comece a contagem pelo \"0\" (Geralmente é a coluna \"Num.Def.\"): '))\n",
        "print(f'='*50)\n",
        "print(f'RELATÓRIO DAS EMENDAS AO PROJETO DE LEI {pl}.')\n",
        "#como imprimir o nome relatório ao centro do relatório\n",
        "print(f'='*50)\n",
        "a = df1.query('`DEC/ACR` == \"DEC\" & `Cod.Ação` == (8502,8504,9001,9030,9096,9033,9002,8517,2990)')\n",
        "lista_a = []\n",
        "for l in range(len(a)):\n",
        "  lista_a.append(a.iat[l, ne])\n",
        "print(f'1 - As seguintes emendas contém cancelamento em ações inadequadas e devem ser vetadas: {lista_a}')\n",
        "\n",
        "#2. ANÁLISE DE FONTE\n",
        "b = df1.query('`Fonte` != 100')\n",
        "if len(b) > 0:\n",
        "  lista_b = []\n",
        "  for c in range(len(b)):\n",
        "    lista_b.append(b.iat[c, ne])\n",
        "  print(f'2 - As seguintes emendas contém Fonte de recursos diferente de 100 e devem ser vetadas: {lista_b}. ')\n",
        "else:\n",
        "  print(f'2 - Não há emendas com fonte de recursos diferente de 100!')\n",
        "print(f'3 - Item \"IDUSO\" a ser verificado posteriormente.')\n",
        "\n",
        "#3. ANÁLISE DE IDUSO\n",
        "#c = df.query('`Iduso` != 6')\n",
        "#if len(c) > 0:\n",
        "  #lista_c = []\n",
        "  #for d in range(len(c)):\n",
        "   # lista_c.append(c.iat[d, '18'])\n",
        "  #print(f'As seguintes emendas contém IDUSO diferente de 6, e devem ser vetadas: {lista_c}')\n",
        "#else:\n",
        "  #print(f'Não há emendas com Iduso diferente de 6!')\n",
        "\n",
        "#4. VEDADO REMANEJAMENTO DE EDU., SAÚDE E SEG. PARA PUBLICIDADE E PROPAGANDA\n",
        "g = df1.query('`DEC/ACR` == \"ACR\" & `Cod.Ação` == 8505')\n",
        "if len(g) == 0:\n",
        "  print(f'4 - Não há emendas com suplementação em publicidade e propaganda.')\n",
        "else:\n",
        "  print(f'4 - Analisar as emendas com acréscimo em publicidade e propaganda: ', end= '')\n",
        "emendas_pub = []\n",
        "for t in range(len(g)):\n",
        "    emendas_pub.append(g.iat[t, ne])\n",
        "if len(g) > 0:\n",
        "  print(emendas_pub)\n",
        "\n",
        "#5. COMPATIBILIDADE ENTRE ELEMENTO DE DESPESA E AÇÃO:\n",
        "se = [41,42,43,45,81]\n",
        "#fazer função com planilha de acréscimo\n",
        "dana = df1.query('`DEC/ACR` == \"ACR\"')\n",
        "ty = dana[(dana['Natureza']%100).isin(se)]\n",
        "tod = ty[ty['Cod.Ação'] // 1000 != 9]\n",
        "se2 = []\n",
        "for tu in range(len(tod)):\n",
        "    se2.append(tod.iat[tu,ne])\n",
        "if len(tod) > 0:\n",
        "    print(f'5 - As seguintes emendas devem ser vetadas por conterem suplementação com os elementos 41, 42, 43, 45, ou 81 com Projeto ou Atividade: {se2}')\n",
        "else:\n",
        "    print(f'5 - Não há emendas para veto contendo suplementação nos elementos de despesa 41, 42, 43, 45 ou 81 e Ação de Projeto ou Atividade.')\n",
        "\n",
        "#6. ELEMENTDOS DE DESPESAS VEDADOS PARA SEREM UTILIZADOS EM PROJETOS E ATIVIDADES\n",
        "\n",
        "te = [30,35,36,39,51,52]\n",
        "\n",
        "df2 = dana[(dana['Natureza']%100).isin(te)]\n",
        "df3 = df2[df2['Cod.Ação']//1000 == 9]\n",
        "lista_4 = []\n",
        "for r in range(len(df3)):\n",
        "  lista_4.append(df3.iat[r, ne])\n",
        "if len(df3)> 0:\n",
        "  print(f'6 - As seguintes emendas apresentam os elementos de despesa 30, 35, 36, 39, 51 e 52 e a ação de operação especial, e e devem ser vetadas: {lista_4}')\n",
        "else:\n",
        "  print(f'6 - Não há emendas com suplementação com os elementos de despesa 30, 35, 36, 39, 51 e 52 e ação de operação especial.')\n",
        "\n",
        "#7. ATIVIDADE OU OPERAÇÃO ESPECIAL NÃO PODE CONTEMPLAR PROGRAMAÇÃO COM O ELEMENTO DE DESPESA 51 - OBRAS E INSTALAÇÕES.\n",
        "ge = [2,4,6,8]\n",
        "df4 = dana[dana['Natureza']%100 == 51]\n",
        "df5 = df4[(df4['Cod.Ação']//1000).isin(ge)]\n",
        "df6 = df4[df4['Cod.Ação']//1000 == 9]\n",
        "lista_5 = []\n",
        "for tr in range(len(df5)):\n",
        "  lista_5.append(df5.iat[tr, ne])\n",
        "for tg in range(len(df6)):\n",
        "  lista_5.append(df6.iat[tg, ne])\n",
        "if len(lista_5)> 0:\n",
        "  print(f'7 - As seguintes emendas apresentam suplementação com o elemento de despesa 51 e Atividade ou operação especial, e devem ser vetadas: {lista_5}.')\n",
        "else:\n",
        "  print(f'7 - Não há emendas com suplementação no elemento de despesa 51, e atividade ou operação especial.')\n",
        "\n",
        "\n",
        "#8. COMPATIBILIDADE ENTRE MODALIDADE DE APLICAÇÃO E ELEMENTO DE DESPESA\n",
        "lista_j = [20,30,31,40,41,50,60]\n",
        "lista_7 = [30,51,52,39]\n",
        "lista_8 = []\n",
        "#df6 = dana.loc[(dana['Natureza'].astype(str).str[2:4]).isin(lista_j)].copy()\n",
        "#print(df6.iat[0,19])\n",
        "#como fazer um dataframe que contenha as células de uma determinada coluna de um dataframe iguais aos elementos de outro dataframe\n",
        "#dana['Natureza_//100'] = dana['Natureza']//100\n",
        "df1['Natureza//100'] = df1['Natureza']//100\n",
        "df1['Natureza%100'] = df1['Natureza//100']%100\n",
        "df7 = df1.query('`DEC/ACR` == \"ACR\"')\n",
        "df8 = df7[(df7['Natureza%100']).isin(lista_j)]\n",
        "df9 = df8[(df8['Natureza']%100).isin(lista_7)]\n",
        "\n",
        "for you in range(len(df9)):\n",
        "    if len(df9)> 0:\n",
        "        lista_8.append(df9.iat[you, ne])\n",
        "    print(f'8 - As seguintes emendas apresentam suplementação com modalidade de aplicação 20,30,31,40,41,50 ou 60 e elementos de despesas que representam contraprestação direta em bens e serviços, e devem ser vetadas: {lista_8}. ')"
      ],
      "metadata": {
        "colab": {
          "base_uri": "https://localhost:8080/"
        },
        "id": "05HMyENbgvQh",
        "outputId": "bb61f1ef-3908-4bc4-f999-0cca7de62e97"
      },
      "execution_count": 4,
      "outputs": [
        {
          "output_type": "stream",
          "name": "stdout",
          "text": [
            "INSTRUÇÕES\n",
            "1 - Abra a planilha.\n",
            "2 - Verifique se está com as colunas com os nomes adequados.\n",
            "3 - Salve a planilha e copia o caminho desta, para informar quando perguntado.\n",
            "4 - O relatório sairá pronto, com a informação do motivo do veto seguida pelo número das emendas a serem vetadas.\n",
            "Digite o número do PL(XXX/ANO)? 196/2023\n",
            "Digite o número da coluna que contém o número da emenda - comece a contagem pelo \"0\" (Geralmente é a coluna \"Num.Def.\"): 18\n",
            "==================================================\n",
            "RELATÓRIO DAS EMENDAS AO PROJETO DE LEI 196/2023.\n",
            "==================================================\n",
            "1 - As seguintes emendas contém cancelamento em ações inadequadas e devem ser vetadas: [500, 500, 500, 257]\n",
            "2 - Não há emendas com fonte de recursos diferente de 100!\n",
            "3 - Item \"IDUSO\" a ser verificado posteriormente.\n",
            "4 - Não há emendas com suplementação em publicidade e propaganda.\n",
            "5 - As seguintes emendas devem ser vetadas por conterem suplementação com os elementos 41, 42, 43, 45, ou 81 com Projeto ou Atividade: [231, 267]\n",
            "6 - As seguintes emendas apresentam os elementos de despesa 30, 35, 36, 39, 51 e 52 e a ação de operação especial, e e devem ser vetadas: [305]\n",
            "7 - As seguintes emendas apresentam suplementação com o elemento de despesa 51 e Atividade ou operação especial, e devem ser vetadas: [153, 175].\n",
            "8 - As seguintes emendas apresentam suplementação com modalidade de aplicação 20,30,31,40,41,50 ou 60 e elementos de despesas que representam contraprestação direta em bens e serviços, e devem ser vetadas: [236]. \n"
          ]
        }
      ]
    },
    {
      "cell_type": "code",
      "source": [],
      "metadata": {
        "id": "IlOCxagSgo4p"
      },
      "execution_count": null,
      "outputs": []
    },
    {
      "cell_type": "code",
      "source": [],
      "metadata": {
        "id": "ZLv52WmkgkgC"
      },
      "execution_count": null,
      "outputs": []
    }
  ]
}